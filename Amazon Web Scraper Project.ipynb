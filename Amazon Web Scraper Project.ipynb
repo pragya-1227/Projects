{
 "cells": [
  {
   "cell_type": "code",
   "execution_count": 1,
   "id": "dcf38afd",
   "metadata": {},
   "outputs": [],
   "source": [
    "from bs4 import BeautifulSoup\n",
    "import time\n",
    "import datetime\n",
    "import requests\n",
    "import smtplib  #library helps sending emails \n"
   ]
  },
  {
   "cell_type": "code",
   "execution_count": 2,
   "id": "37b17a4e",
   "metadata": {},
   "outputs": [
    {
     "name": "stdout",
     "output_type": "stream",
     "text": [
      "\n",
      "            War of Lanka (Ram Chandra Series Book 4)\n",
      "           \n",
      "\n",
      "                          ₹380.00\n",
      "                         \n"
     ]
    }
   ],
   "source": [
    "# connect to website\n",
    "\n",
    "URL = \"https://www.amazon.in/War-Lanka-Ram-Chandra-Book/dp/9356291527/ref=zg_bs_books_sccl_21/257-7158475-5730059?pd_rd_i=9356291527&psc=1\"\n",
    "\n",
    "headers = {\"User-Agent\": \"Mozilla/5.0 (Windows NT 10.0; Win64; x64) AppleWebKit/537.36 (KHTML, like Gecko) Chrome/104.0.0.0 Safari/537.36\",\"Accept-Encoding\":\"gzip, deflate\", \"Accept\":\"text/html,application/xhtml+xml,application/xml;q=0.9,*/*;q=0.8\", \"DNT\":\"1\",\"Connection\":\"close\", \"Upgrade-Insecure-Requests\":\"1\"}\n",
    "\n",
    "page = requests.get(URL, headers=headers)\n",
    "\n",
    "soup1 = BeautifulSoup(page.content, \"html.parser\")\n",
    "\n",
    "soup2 = BeautifulSoup(soup1.prettify(), \"html.parser\")\n",
    "\n",
    "title = soup2.find(id='productTitle').get_text()\n",
    "\n",
    "price = soup2.find(id='price').get_text()\n",
    "\n",
    "print(title)\n",
    "print(price)\n"
   ]
  },
  {
   "cell_type": "code",
   "execution_count": 3,
   "id": "49121ea0",
   "metadata": {},
   "outputs": [
    {
     "name": "stdout",
     "output_type": "stream",
     "text": [
      "War of Lanka (Ram Chandra Series Book 4)\n",
      "380.00\n"
     ]
    }
   ],
   "source": [
    "#cleaning the data\n",
    "price = price.strip()[1:] #strip helps to erase the all the junk and [1:] is for eliminating rupee symbol from price\n",
    "title = title.strip()\n",
    "print(title)\n",
    "print(price)"
   ]
  },
  {
   "cell_type": "code",
   "execution_count": 4,
   "id": "9ff747ac",
   "metadata": {},
   "outputs": [
    {
     "name": "stdout",
     "output_type": "stream",
     "text": [
      "2022-09-06\n"
     ]
    }
   ],
   "source": [
    "today = datetime.date.today()\n",
    "print(today)"
   ]
  },
  {
   "cell_type": "code",
   "execution_count": 5,
   "id": "6ba3db37",
   "metadata": {},
   "outputs": [],
   "source": [
    "import csv\n",
    "\n",
    "header = ['Title','Price','Date']\n",
    "data=[title,price,today]\n",
    "\n",
    "with open('AmazonWebScraperDataset.csv','w', newline=\"\",encoding=\"UTF8\") as f: #creating a csv\n",
    "    writer=csv.writer(f)\n",
    "    writer.writerow(header) #inserting a data , initial insertion\n",
    "    writer.writerow(data) \n",
    "    "
   ]
  },
  {
   "cell_type": "code",
   "execution_count": null,
   "id": "e475366d",
   "metadata": {},
   "outputs": [],
   "source": [
    "import pandas as pd \n",
    "\n",
    "df = pd.read_csv(\"AmazonWebScraperDataset.csv\")\n",
    "print(df)"
   ]
  },
  {
   "cell_type": "code",
   "execution_count": 7,
   "id": "0e963eed",
   "metadata": {},
   "outputs": [],
   "source": [
    "#appending data to the csv\n",
    "\n",
    "with open('AmazonWebScraperDataset.csv','a+', newline=\"\",encoding=\"UTF8\") as f: \n",
    "    writer=csv.writer(f)\n",
    "    writer.writerow(data) "
   ]
  },
  {
   "cell_type": "code",
   "execution_count": 8,
   "id": "0a3e00ad",
   "metadata": {},
   "outputs": [],
   "source": [
    "def check_price():\n",
    "    URL = \"https://www.amazon.in/War-Lanka-Ram-Chandra-Book/dp/9356291527/ref=zg_bs_books_sccl_21/257-7158475-5730059?pd_rd_i=9356291527&psc=1\"\n",
    "\n",
    "    headers = {\"User-Agent\": \"Mozilla/5.0 (Windows NT 10.0; Win64; x64) AppleWebKit/537.36 (KHTML, like Gecko) Chrome/104.0.0.0 Safari/537.36\",\"Accept-Encoding\":\"gzip, deflate\", \"Accept\":\"text/html,application/xhtml+xml,application/xml;q=0.9,*/*;q=0.8\", \"DNT\":\"1\",\"Connection\":\"close\", \"Upgrade-Insecure-Requests\":\"1\"}\n",
    "\n",
    "    page = requests.get(URL, headers=headers)\n",
    "\n",
    "    soup1 = BeautifulSoup(page.content, \"html.parser\")\n",
    "\n",
    "    soup2 = BeautifulSoup(soup1.prettify(), \"html.parser\")\n",
    "\n",
    "    title = soup2.find(id='productTitle').get_text()\n",
    "\n",
    "    price = soup2.find(id='price').get_text()\n",
    "\n",
    "\n",
    "    price = price.strip()[1:] #strip helps to erase the all the junk and [1:] is for eliminating rupee symbol from price\n",
    "    title = title.strip()\n",
    "    today = datetime.date.today()\n",
    "    import csv\n",
    "\n",
    "    header = ['Title','Price','Date']\n",
    "    data=[title,price,today]\n",
    "    with open('AmazonWebScraperDataset.csv','a+', newline=\"\",encoding=\"UTF8\") as f: \n",
    "        writer=csv.writer(f)\n",
    "        writer.writerow(data) "
   ]
  },
  {
   "cell_type": "code",
   "execution_count": null,
   "id": "a9b0fb23",
   "metadata": {},
   "outputs": [],
   "source": [
    "while(True):\n",
    "    check_price()\n",
    "    time.sleep(86400)\n",
    "    \n",
    "    #this gonna check price every single day"
   ]
  },
  {
   "cell_type": "code",
   "execution_count": null,
   "id": "06fced0b",
   "metadata": {},
   "outputs": [],
   "source": []
  },
  {
   "cell_type": "code",
   "execution_count": null,
   "id": "2331e99a",
   "metadata": {},
   "outputs": [],
   "source": []
  }
 ],
 "metadata": {
  "kernelspec": {
   "display_name": "Python 3",
   "language": "python",
   "name": "python3"
  },
  "language_info": {
   "codemirror_mode": {
    "name": "ipython",
    "version": 3
   },
   "file_extension": ".py",
   "mimetype": "text/x-python",
   "name": "python",
   "nbconvert_exporter": "python",
   "pygments_lexer": "ipython3",
   "version": "3.8.8"
  }
 },
 "nbformat": 4,
 "nbformat_minor": 5
}
